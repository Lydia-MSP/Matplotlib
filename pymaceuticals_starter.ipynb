{
 "cells": [
  {
   "cell_type": "markdown",
   "metadata": {},
   "source": [
    "## Observations and Insights"
   ]
  },
  {
   "cell_type": "markdown",
   "metadata": {},
   "source": [
    "#### 1) Tumor volume its mostlikely to be stay large for mice that are heavier\n",
    "#### 2) Time under a treatment will not alwasys result in decresed volume of tumor; some mice experience increased volume of tumor with the time.\n",
    "#### 3) Drugs Ramicane & Capomulin seem to be the most effective at reducing the volume of tumors on mice\n"
   ]
  },
  {
   "cell_type": "markdown",
   "metadata": {},
   "source": [
    "## Dependencies and starter code"
   ]
  },
  {
   "cell_type": "code",
   "execution_count": null,
   "metadata": {
    "scrolled": true
   },
   "outputs": [],
   "source": [
    "# Dependencies and Setup\n",
    "import matplotlib.pyplot as plt\n",
    "import pandas as pd\n",
    "import scipy.stats as st\n",
    "import numpy as np\n",
    "from scipy.stats import linregress\n",
    "\n",
    "# Study data files\n",
    "mouse_metadata = \"data/Mouse_metadata.csv\"\n",
    "study_results = \"data/Study_results.csv\"\n",
    "\n",
    "# Read the mouse data and the study results\n",
    "mouse_metadata = pd.read_csv(mouse_metadata)\n",
    "study_results = pd.read_csv(study_results)\n",
    "\n",
    "# Combine the data into a single dataset\n",
    "df= Mouse_Study_combined_df = pd.merge(study_results, mouse_metadata, on=\"Mouse ID\")\n",
    "\n",
    "df\n"
   ]
  },
  {
   "cell_type": "markdown",
   "metadata": {},
   "source": [
    "## Summary statistics"
   ]
  },
  {
   "cell_type": "code",
   "execution_count": null,
   "metadata": {},
   "outputs": [],
   "source": [
    "# Generate a summary statistics table of mean, median, variance, standard deviation, and SEM of the tumor volume for each regimen\n",
    "# Generate a summary statistics table of mean, median, variance, standard deviation, and SEM of the tumor volume for each regimen\n",
    "mouse_summary_df=df.groupby(['Drug Regimen'])['Tumor Volume (mm3)'].agg({'Mean':np.mean, 'SD':np.std,'Variance':np.var,'Median':np.median,'SEM':st.sem}).reset_index()\n",
    "mouse_summary_df\n"
   ]
  },
  {
   "cell_type": "markdown",
   "metadata": {},
   "source": [
    "## Bar plots"
   ]
  },
  {
   "cell_type": "code",
   "execution_count": null,
   "metadata": {},
   "outputs": [],
   "source": [
    "# Generate a bar plot showing number of data points for each treatment regimen using pandas\n",
    "drugs = mouse_summary_df['Drug Regimen']\n",
    "\n",
    "multi_plot = mouse_summary_df.plot(kind=\"bar\", figsize=(20,10))\n",
    "multi_plot.set_xticklabels(drugs)\n",
    "multi_plot.set_ylabel(\"Volume of Tumor in (mm3)\")\n",
    "multi_plot.set_xlabel(\"Drug\")\n",
    "multi_plot.set_title(\"Tumor Volume Statitics\")\n",
    "plt.show()\n",
    "plt.tight_layout()"
   ]
  },
  {
   "cell_type": "code",
   "execution_count": null,
   "metadata": {},
   "outputs": [],
   "source": [
    "\n",
    "# Generate a bar plot showing number of data points for each treatment regimen using pyplot\n",
    "# Setting the positions and width for the bars\n",
    "pos = list(range(len(mouse_summary_df['Mean'])))\n",
    "width = 0.1\n",
    " \n",
    "# Plotting the bars\n",
    "fig, ax = plt.subplots(figsize=(20,10))\n",
    "#plt.axis('off')\n",
    "plt.grid(b=None)\n",
    "# Create a bar with pre_score data,\n",
    "# in position pos,\n",
    "plt.bar(pos,\n",
    "        mouse_summary_df['Mean'],\n",
    "        # of width\n",
    "        width,\n",
    "        # with alpha 0.5\n",
    "        alpha=0.5, \n",
    "        # with label the first value in first_name\n",
    "        label=mouse_summary_df['Drug Regimen'][0])\n",
    "# Create a bar with mid_score data,\n",
    "# in position pos + some width buffer,\n",
    "plt.bar([p + width for p in pos],\n",
    "        #using df['mid_score'] data,\n",
    "        mouse_summary_df['SD'],\n",
    "        # of width\n",
    "        width,\n",
    "        # with alpha 0.5\n",
    "        alpha=0.5,\n",
    "       \n",
    "        # with label the second value in first_name\n",
    "        label=mouse_summary_df['Drug Regimen'][1])\n",
    "# Create a bar with post_score data,\n",
    "# in position pos + some width buffer,\n",
    "plt.bar([p + width*2 for p in pos],\n",
    "        #using df['post_score'] data,\n",
    "        mouse_summary_df['Variance'],\n",
    "        # of width\n",
    "        width,\n",
    "        # with alpha 0.5\n",
    "        alpha=0.5,\n",
    "        \n",
    "       \n",
    "        # with label the third value in first_name\n",
    "        label=mouse_summary_df['Drug Regimen'][2])\n",
    "plt.bar([p + width*3 for p in pos],\n",
    "        #using df['post_score'] data,\n",
    "        mouse_summary_df['Median'],\n",
    "        # of width\n",
    "        width,\n",
    "        # with alpha 0.5\n",
    "        alpha=0.5,\n",
    "       \n",
    "        # with label the third value in first_name\n",
    "        label=mouse_summary_df['Drug Regimen'][3])\n",
    "plt.bar([p + width*4 for p in pos],\n",
    "        #using df['post_score'] data,\n",
    "        mouse_summary_df['SEM'],\n",
    "        # of width\n",
    "        width,\n",
    "        # with alpha 0.5\n",
    "        alpha=0.5,\n",
    "       \n",
    "        # with label the third value in first_name\n",
    "        label=mouse_summary_df['Drug Regimen'][4])\n",
    "# Set the y axis label\n",
    "ax.set_ylabel('Volume of Tumor in (mm3)')\n",
    "# Set the y axis label\n",
    "ax.set_xlabel('Drug')\n",
    "# Set the chart's title\n",
    "ax.set_title('Tumor Volume Statitics')\n",
    "# Set the position of the x ticks\n",
    "ax.set_xticks([p + 1.5 * width for p in pos])\n",
    "# Set the labels for the x ticks\n",
    "ax.set_xticklabels(mouse_summary_df['Drug Regimen'])\n",
    "# Adding the legend and showing the plot\n",
    "plt.legend(['Mean', 'SD', 'Variance','Median', 'SEM'], loc='upper right')\n",
    "plt.grid()\n",
    "plt.show()\n"
   ]
  },
  {
   "cell_type": "markdown",
   "metadata": {},
   "source": [
    "## Pie plots"
   ]
  },
  {
   "cell_type": "code",
   "execution_count": null,
   "metadata": {
    "scrolled": true
   },
   "outputs": [],
   "source": [
    "# Generate a pie plot showing the distribution of female versus male mice using pandas\n",
    "sex_mouse = mouse_metadata.groupby('Sex' ,as_index=False )['Mouse ID'].count().rename(columns={'Mouse ID':'Count Of Mice by Sex'})\n",
    "sex_mouse.plot(kind='pie',  y = 'Count Of Mice by Sex', autopct='%1.1f%%' , startangle=140, shadow=True, labels=sex_mouse ['Sex'], legend = False, fontsize=14)"
   ]
  },
  {
   "cell_type": "code",
   "execution_count": null,
   "metadata": {},
   "outputs": [],
   "source": [
    "# Generate a pie plot showing the distribution of female versus male mice using pyplot\n",
    "# Labels for the sections of our pie chart\n",
    "sex_list = sex_mouse[\"Sex\"].values.tolist()\n",
    "count_list = sex_mouse[\"Count Of Mice by Sex\"].values.tolist()\n",
    "plt.pie(count_list,  labels=sex_list, autopct=\"%1.1f%%\", shadow=True, startangle=140)\n",
    "plt.title(\"Count Of Mice by Sex\")\n"
   ]
  },
  {
   "cell_type": "markdown",
   "metadata": {},
   "source": [
    "## Quartiles, outliers and boxplots"
   ]
  },
  {
   "cell_type": "code",
   "execution_count": null,
   "metadata": {},
   "outputs": [],
   "source": [
    "# Calculate the final tumor volume of each mouse across four of the most promising treatment regimens. Calculate the IQR and quantitatively determine if there are any potential outliers. \n",
    "Mouse_combined = df[['Mouse ID','Tumor Volume (mm3)']].loc[df['Drug Regimen'].isin(['Capomulin','Propriva','Ketapril','Ramicane'])]\n",
    "Mouse_combined_vol = Mouse_combined.groupby('Mouse ID' ,as_index=False)['Tumor Volume (mm3)'].agg({'Last':'last'})\n",
    "del Mouse_combined_vol['Mouse ID']\n",
    "Mouse_combined_vol_list =  Mouse_combined_vol['Last']\n",
    "\n",
    "quartiles =Mouse_combined_vol_list.quantile([.25,.5,.75])\n",
    "lowerq = quartiles[0.25]\n",
    "upperq = quartiles[0.75]\n",
    "iqr = upperq-lowerq\n",
    "print(f\"The lower quartile of Tumor Volume (mm3) is: {lowerq}\")\n",
    "print(f\"The upper quartile of Tumor Volume (mm3) is: {upperq}\")\n",
    "print(f\"The interquartile range of Tumor Volume (mm3) is: {iqr}\")\n",
    "print(f\"The  median of Tumor Volume (mm3) is: {quartiles[0.5]} \")\n",
    "lower_bound = lowerq - (1.5*iqr)\n",
    "upper_bound = upperq + (1.5*iqr)\n",
    "print(f\"Values below {lower_bound} could be outliers.\")\n",
    "print(f\"Values above {upper_bound} could be outliers.\")\n"
   ]
  },
  {
   "cell_type": "code",
   "execution_count": null,
   "metadata": {},
   "outputs": [],
   "source": [
    "# Generate a box plot of the final tumor volume of each mouse across four regimens of interest\n",
    "fig1, ax1 = plt.subplots()\n",
    "ax1.set_title('Final tumor volume of each mouse across Drugs: Capomulin, Propriva, Ketapril, Ramicane ')\n",
    "ax1.set_ylabel('Tumor Volume in mm3 (Final)) ')\n",
    "ax1.boxplot(Mouse_combined_vol_list)\n",
    "plt.show()"
   ]
  },
  {
   "cell_type": "markdown",
   "metadata": {},
   "source": [
    "## Line and scatter plots"
   ]
  },
  {
   "cell_type": "code",
   "execution_count": null,
   "metadata": {},
   "outputs": [],
   "source": [
    "# Generate a line plot of time point versus tumor volume for a mouse treated with Capomulin\n",
    "mouse_m601 = df.loc[df['Mouse ID']=='m601']\n",
    "mouse_m601.loc[mouse_m601['Drug Regimen']=='Capomulin'].plot(kind='line',x='Timepoint',y='Tumor Volume (mm3)',color='red')"
   ]
  },
  {
   "cell_type": "code",
   "execution_count": null,
   "metadata": {},
   "outputs": [],
   "source": [
    "# Generate a scatter plot of mouse weight versus average tumor volume for the Capomulin regimen\n",
    "cap_weight = df[['Weight (g)','Mouse ID']].loc[df['Drug Regimen']=='Capomulin']\n",
    "x_axis = cap_weight.groupby(['Mouse ID'])['Weight (g)'].agg({'Weight':'first'})\n",
    "x_axis = x_axis['Weight']\n",
    "x_axis = x_axis.reset_index()\n",
    "x_axis = x_axis[\"Weight\"]\n",
    "cap_vol = df[['Tumor Volume (mm3)','Mouse ID']].loc[df['Drug Regimen']=='Capomulin']\n",
    "y_axis = cap_vol.groupby(['Mouse ID'])['Tumor Volume (mm3)'].agg({'Mean':np.mean})\n",
    "y_axis = y_axis.reset_index()\n",
    "y_axis = y_axis['Mean']\n",
    "(slope, intercept, rvalue, pvalue, stderr) = linregress(x_axis, y_axis)\n",
    "regress_values = x_axis * slope + intercept\n",
    "line_eq = \"y = \" + str(round(slope,2)) + \"x + \" + str(round(intercept,2))\n",
    "plt.scatter(x_axis,y_axis)\n",
    "plt.plot(x_axis,regress_values,\"r-\")\n",
    "plt.annotate(line_eq,(19,38),fontsize=15,color=\"red\")\n",
    "plt.xlabel('Mouse Weight')\n",
    "plt.ylabel('Tumor Volume (mm3)')\n",
    "plt.show()"
   ]
  },
  {
   "cell_type": "code",
   "execution_count": null,
   "metadata": {},
   "outputs": [],
   "source": [
    "# Calculate the correlation coefficient and linear regression model for mouse weight and average tumor volume for the Capomulin regimen\n",
    "\n",
    "print(f\"The correlation coefficient is: {rvalue}\")"
   ]
  },
  {
   "cell_type": "code",
   "execution_count": null,
   "metadata": {},
   "outputs": [],
   "source": []
  }
 ],
 "metadata": {
  "anaconda-cloud": {},
  "kernelspec": {
   "display_name": "Python 3",
   "language": "python",
   "name": "python3"
  },
  "language_info": {
   "codemirror_mode": {
    "name": "ipython",
    "version": 3
   },
   "file_extension": ".py",
   "mimetype": "text/x-python",
   "name": "python",
   "nbconvert_exporter": "python",
   "pygments_lexer": "ipython3",
   "version": "3.6.9"
  }
 },
 "nbformat": 4,
 "nbformat_minor": 2
}
